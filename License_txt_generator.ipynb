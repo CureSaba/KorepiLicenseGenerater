{
  "nbformat": 4,
  "nbformat_minor": 0,
  "metadata": {
    "colab": {
      "provenance": []
    },
    "kernelspec": {
      "name": "python3",
      "display_name": "Python 3"
    },
    "language_info": {
      "name": "python"
    }
  },
  "cells": [
    {
      "cell_type": "code",
      "execution_count": null,
      "metadata": {
        "colab": {
          "base_uri": "https://localhost:8080/"
        },
        "id": "RTuhY5Ok0yOJ",
        "outputId": "cb85982c-8e8b-4c07-d530-b0823dc6f138"
      },
      "outputs": [
        {
          "output_type": "stream",
          "name": "stdout",
          "text": [
            "Requirement already satisfied: pandas in /usr/local/lib/python3.10/dist-packages (2.2.0)\n",
            "Requirement already satisfied: pytz in /usr/local/lib/python3.10/dist-packages (2024.1)\n",
            "Requirement already satisfied: numpy in /usr/local/lib/python3.10/dist-packages (1.26.4)\n",
            "Requirement already satisfied: python-dateutil>=2.8.2 in /usr/local/lib/python3.10/dist-packages (from pandas) (2.8.2)\n",
            "Requirement already satisfied: tzdata>=2022.7 in /usr/local/lib/python3.10/dist-packages (from pandas) (2024.1)\n",
            "Requirement already satisfied: six>=1.5 in /usr/local/lib/python3.10/dist-packages (from python-dateutil>=2.8.2->pandas) (1.16.0)\n",
            "ExcelFileName: /content/drive/MyDrive/a/a.xlsx\n",
            "('micah-oc-key', 10.0)\n",
            "('micah-oc-key', 10.0)\n",
            "('micah-oc-key', 10.0)\n",
            "('micah-oc-key', 10.0)\n",
            "('micah-oc-key', 10.0)\n",
            "('micah-oc-key', 1.0)\n",
            "('micah-oc-key', 1.0)\n",
            "('micah-oc-key', 1.0)\n",
            "('micah-oc-key', 1.0)\n",
            "('micah-oc-key', 1.0)\n",
            "('micah-oc-key', 3.0)\n",
            "('micah-oc-key', 3.0)\n",
            "('micah-oc-key', 3.0)\n",
            "('micah-oc-key', 3.0)\n",
            "('micah-oc-key', 3.0)\n",
            "('micah-oc-key', 13.0)\n",
            "('micah-oc-key', 13.0)\n",
            "('micah-oc-key', 13.0)\n",
            "('micah-oc-key', 13.0)\n",
            "('micah-oc-key', 13.0)\n",
            "('micah-oc-key', 23.0)\n",
            "('micah-oc-key', 23.0)\n",
            "('micah-oc-key', 23.0)\n",
            "('micah-oc-key', 23.0)\n",
            "Task Completed\n"
          ]
        }
      ],
      "source": [
        "!pip install -U pandas pytz numpy\n",
        "\n",
        "import pandas as pd\n",
        "import json\n",
        "import re\n",
        "class genetate():\n",
        "    def __init__(self, filename=\"a.xlsx\"):\n",
        "        self.df = pd.read_excel(filename)\n",
        "        self.json_data = json.loads(self.df.to_json())\n",
        "        self.hour=-1\n",
        "        self.oneday=-1\n",
        "        self.oneweek=-1\n",
        "        self.onemonth=-1\n",
        "        self.threemonths=-1\n",
        "        self.sixmonths=-1\n",
        "        self.oneday=-1\n",
        "    def filetype(self, money):\n",
        "        money=float(money)\n",
        "        if money==0.5:\n",
        "            self.onehour+=1\n",
        "            return \"onehour\", self.onehour\n",
        "        if money==1:\n",
        "            self.oneday+=1\n",
        "            return \"oneday\", self.oneday\n",
        "        if money==3:\n",
        "            self.oneweek+=1\n",
        "            return \"oneweek\", self.oneweek\n",
        "        if money==10:\n",
        "            self.onemonth+=1\n",
        "            return \"onemonths\", self.onemonth\n",
        "        if money==13:\n",
        "            self.threemonths+=1\n",
        "            return \"threemonths\", self.threemonths\n",
        "        if money==23:\n",
        "            self.sixmonths+=1\n",
        "            return \"sixmonths\", self.sixmonths\n",
        "        if money==35:\n",
        "            self.oneyear+=1\n",
        "            return \"oneyear\", self.oneyear\n",
        "    def wheredir(self, filename):\n",
        "      try:\n",
        "        return re.match(r\"(/.*\\/).*.xlsx\",filename)[1]\n",
        "      except:\n",
        "        return \"./\"\n",
        "    def main(self,dir=\"./\"):\n",
        "        json_data=self.json_data\n",
        "        for i in zip(json_data[list(json_data)[3]].values(),json_data[list(json_data)[2]].values()):\n",
        "            print(i)\n",
        "            filetype=self.filetype(float(i[1]))\n",
        "            with open(f\"{dir}{filetype[0]}{filetype[1]}.txt\", mode='x') as f:\n",
        "                f.write(i[0])\n",
        "                f.close()\n",
        "        #print(a)\n",
        "        print(\"Task Completed\")\n",
        "if __name__ == '__main__':\n",
        "    filename=input(\"ExcelFileName: \")\n",
        "    a=genetate(\"a.xlsx\" if filename==\"\"else filename)\n",
        "    a.main(a.wheredir(filename))"
      ]
    },
    {
      "cell_type": "code",
      "source": [],
      "metadata": {
        "id": "KMjq7_my9ZOY"
      },
      "execution_count": null,
      "outputs": []
    }
  ]
}